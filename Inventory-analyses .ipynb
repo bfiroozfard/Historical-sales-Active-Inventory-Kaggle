{
 "cells": [
  {
   "cell_type": "code",
   "execution_count": 1,
   "metadata": {},
   "outputs": [],
   "source": [
    "# Import required librarriws\n",
    "import pandas as pd\n",
    "import numpy as np\n",
    "import matplotlib.pyplot as plt\n",
    "import datetime\n",
    "import seaborn as sns"
   ]
  },
  {
   "cell_type": "code",
   "execution_count": 2,
   "metadata": {},
   "outputs": [],
   "source": [
    "db=pd.read_csv(\"./data/SalesKaggle3.csv\")"
   ]
  },
  {
   "cell_type": "code",
   "execution_count": 3,
   "metadata": {},
   "outputs": [
    {
     "data": {
      "text/html": [
       "<div>\n",
       "<style scoped>\n",
       "    .dataframe tbody tr th:only-of-type {\n",
       "        vertical-align: middle;\n",
       "    }\n",
       "\n",
       "    .dataframe tbody tr th {\n",
       "        vertical-align: top;\n",
       "    }\n",
       "\n",
       "    .dataframe thead th {\n",
       "        text-align: right;\n",
       "    }\n",
       "</style>\n",
       "<table border=\"1\" class=\"dataframe\">\n",
       "  <thead>\n",
       "    <tr style=\"text-align: right;\">\n",
       "      <th></th>\n",
       "      <th>Order</th>\n",
       "      <th>File_Type</th>\n",
       "      <th>SKU_number</th>\n",
       "      <th>SoldFlag</th>\n",
       "      <th>SoldCount</th>\n",
       "      <th>MarketingType</th>\n",
       "      <th>ReleaseNumber</th>\n",
       "      <th>New_Release_Flag</th>\n",
       "      <th>StrengthFactor</th>\n",
       "      <th>PriceReg</th>\n",
       "      <th>ReleaseYear</th>\n",
       "      <th>ItemCount</th>\n",
       "      <th>LowUserPrice</th>\n",
       "      <th>LowNetPrice</th>\n",
       "    </tr>\n",
       "  </thead>\n",
       "  <tbody>\n",
       "    <tr>\n",
       "      <th>0</th>\n",
       "      <td>2</td>\n",
       "      <td>Historical</td>\n",
       "      <td>1737127</td>\n",
       "      <td>0.0</td>\n",
       "      <td>0.0</td>\n",
       "      <td>D</td>\n",
       "      <td>15</td>\n",
       "      <td>1</td>\n",
       "      <td>682743.0</td>\n",
       "      <td>44.99</td>\n",
       "      <td>2015</td>\n",
       "      <td>8</td>\n",
       "      <td>28.97</td>\n",
       "      <td>31.84</td>\n",
       "    </tr>\n",
       "    <tr>\n",
       "      <th>1</th>\n",
       "      <td>3</td>\n",
       "      <td>Historical</td>\n",
       "      <td>3255963</td>\n",
       "      <td>0.0</td>\n",
       "      <td>0.0</td>\n",
       "      <td>D</td>\n",
       "      <td>7</td>\n",
       "      <td>1</td>\n",
       "      <td>1016014.0</td>\n",
       "      <td>24.81</td>\n",
       "      <td>2005</td>\n",
       "      <td>39</td>\n",
       "      <td>0.00</td>\n",
       "      <td>15.54</td>\n",
       "    </tr>\n",
       "    <tr>\n",
       "      <th>2</th>\n",
       "      <td>4</td>\n",
       "      <td>Historical</td>\n",
       "      <td>612701</td>\n",
       "      <td>0.0</td>\n",
       "      <td>0.0</td>\n",
       "      <td>D</td>\n",
       "      <td>0</td>\n",
       "      <td>0</td>\n",
       "      <td>340464.0</td>\n",
       "      <td>46.00</td>\n",
       "      <td>2013</td>\n",
       "      <td>34</td>\n",
       "      <td>30.19</td>\n",
       "      <td>27.97</td>\n",
       "    </tr>\n",
       "    <tr>\n",
       "      <th>3</th>\n",
       "      <td>6</td>\n",
       "      <td>Historical</td>\n",
       "      <td>115883</td>\n",
       "      <td>1.0</td>\n",
       "      <td>1.0</td>\n",
       "      <td>D</td>\n",
       "      <td>4</td>\n",
       "      <td>1</td>\n",
       "      <td>334011.0</td>\n",
       "      <td>100.00</td>\n",
       "      <td>2006</td>\n",
       "      <td>20</td>\n",
       "      <td>133.93</td>\n",
       "      <td>83.15</td>\n",
       "    </tr>\n",
       "    <tr>\n",
       "      <th>4</th>\n",
       "      <td>7</td>\n",
       "      <td>Historical</td>\n",
       "      <td>863939</td>\n",
       "      <td>1.0</td>\n",
       "      <td>1.0</td>\n",
       "      <td>D</td>\n",
       "      <td>2</td>\n",
       "      <td>1</td>\n",
       "      <td>1287938.0</td>\n",
       "      <td>121.95</td>\n",
       "      <td>2010</td>\n",
       "      <td>28</td>\n",
       "      <td>4.00</td>\n",
       "      <td>23.99</td>\n",
       "    </tr>\n",
       "  </tbody>\n",
       "</table>\n",
       "</div>"
      ],
      "text/plain": [
       "   Order   File_Type  SKU_number  SoldFlag  SoldCount MarketingType  \\\n",
       "0      2  Historical     1737127       0.0        0.0             D   \n",
       "1      3  Historical     3255963       0.0        0.0             D   \n",
       "2      4  Historical      612701       0.0        0.0             D   \n",
       "3      6  Historical      115883       1.0        1.0             D   \n",
       "4      7  Historical      863939       1.0        1.0             D   \n",
       "\n",
       "   ReleaseNumber  New_Release_Flag  StrengthFactor  PriceReg  ReleaseYear  \\\n",
       "0             15                 1        682743.0     44.99         2015   \n",
       "1              7                 1       1016014.0     24.81         2005   \n",
       "2              0                 0        340464.0     46.00         2013   \n",
       "3              4                 1        334011.0    100.00         2006   \n",
       "4              2                 1       1287938.0    121.95         2010   \n",
       "\n",
       "   ItemCount  LowUserPrice  LowNetPrice  \n",
       "0          8         28.97        31.84  \n",
       "1         39          0.00        15.54  \n",
       "2         34         30.19        27.97  \n",
       "3         20        133.93        83.15  \n",
       "4         28          4.00        23.99  "
      ]
     },
     "execution_count": 3,
     "metadata": {},
     "output_type": "execute_result"
    }
   ],
   "source": [
    "db.head()"
   ]
  },
  {
   "cell_type": "code",
   "execution_count": 4,
   "metadata": {},
   "outputs": [
    {
     "data": {
      "text/plain": [
       "(198917, 14)"
      ]
     },
     "execution_count": 4,
     "metadata": {},
     "output_type": "execute_result"
    }
   ],
   "source": [
    "db.shape"
   ]
  },
  {
   "cell_type": "code",
   "execution_count": 5,
   "metadata": {},
   "outputs": [
    {
     "name": "stdout",
     "output_type": "stream",
     "text": [
      "<class 'pandas.core.frame.DataFrame'>\n",
      "RangeIndex: 198917 entries, 0 to 198916\n",
      "Data columns (total 14 columns):\n",
      "Order               198917 non-null int64\n",
      "File_Type           198917 non-null object\n",
      "SKU_number          198917 non-null int64\n",
      "SoldFlag            75996 non-null float64\n",
      "SoldCount           75996 non-null float64\n",
      "MarketingType       198917 non-null object\n",
      "ReleaseNumber       198917 non-null int64\n",
      "New_Release_Flag    198917 non-null int64\n",
      "StrengthFactor      198917 non-null float64\n",
      "PriceReg            198917 non-null float64\n",
      "ReleaseYear         198917 non-null int64\n",
      "ItemCount           198917 non-null int64\n",
      "LowUserPrice        198917 non-null float64\n",
      "LowNetPrice         198917 non-null float64\n",
      "dtypes: float64(6), int64(6), object(2)\n",
      "memory usage: 21.2+ MB\n"
     ]
    }
   ],
   "source": [
    "db.info()"
   ]
  },
  {
   "cell_type": "code",
   "execution_count": 6,
   "metadata": {
    "scrolled": true
   },
   "outputs": [
    {
     "data": {
      "text/plain": [
       "Order                 int64\n",
       "File_Type            object\n",
       "SKU_number            int64\n",
       "SoldFlag            float64\n",
       "SoldCount           float64\n",
       "MarketingType        object\n",
       "ReleaseNumber         int64\n",
       "New_Release_Flag      int64\n",
       "StrengthFactor      float64\n",
       "PriceReg            float64\n",
       "ReleaseYear           int64\n",
       "ItemCount             int64\n",
       "LowUserPrice        float64\n",
       "LowNetPrice         float64\n",
       "dtype: object"
      ]
     },
     "execution_count": 6,
     "metadata": {},
     "output_type": "execute_result"
    }
   ],
   "source": [
    "db.dtypes"
   ]
  },
  {
   "cell_type": "code",
   "execution_count": 7,
   "metadata": {},
   "outputs": [
    {
     "data": {
      "text/plain": [
       "Active        122921\n",
       "Historical     75996\n",
       "Name: File_Type, dtype: int64"
      ]
     },
     "execution_count": 7,
     "metadata": {},
     "output_type": "execute_result"
    }
   ],
   "source": [
    "db.File_Type.value_counts()"
   ]
  },
  {
   "cell_type": "code",
   "execution_count": 8,
   "metadata": {},
   "outputs": [
    {
     "data": {
      "text/plain": [
       "0.0    63000\n",
       "1.0    12996\n",
       "Name: SoldFlag, dtype: int64"
      ]
     },
     "execution_count": 8,
     "metadata": {},
     "output_type": "execute_result"
    }
   ],
   "source": [
    "# historical data has the value 0 and 1 \n",
    "db.SoldFlag.value_counts()"
   ]
  },
  {
   "cell_type": "code",
   "execution_count": 11,
   "metadata": {},
   "outputs": [
    {
     "data": {
      "text/plain": [
       "122921"
      ]
     },
     "execution_count": 11,
     "metadata": {},
     "output_type": "execute_result"
    }
   ],
   "source": [
    "# all the Active type  has sold columns : NaN\n",
    "db.SoldFlag.isnull().sum()"
   ]
  },
  {
   "cell_type": "code",
   "execution_count": 19,
   "metadata": {},
   "outputs": [
    {
     "data": {
      "text/plain": [
       "S    100946\n",
       "D     97971\n",
       "Name: MarketingType, dtype: int64"
      ]
     },
     "execution_count": 19,
     "metadata": {},
     "output_type": "execute_result"
    }
   ],
   "source": [
    "db.MarketingType.value_counts()"
   ]
  },
  {
   "cell_type": "code",
   "execution_count": 9,
   "metadata": {},
   "outputs": [
    {
     "data": {
      "text/plain": [
       "0.0    63000\n",
       "1.0    12996\n",
       "Name: SoldFlag, dtype: int64"
      ]
     },
     "execution_count": 9,
     "metadata": {},
     "output_type": "execute_result"
    }
   ],
   "source": [
    "# 63000 not sold, 12996 sold out of 75996  historical data\n",
    "db.SoldFlag.value_counts()"
   ]
  },
  {
   "cell_type": "code",
   "execution_count": 14,
   "metadata": {},
   "outputs": [
    {
     "data": {
      "text/plain": [
       "2363390    2\n",
       "631854     2\n",
       "1519022    2\n",
       "775601     2\n",
       "621621     2\n",
       "          ..\n",
       "293832     1\n",
       "551882     1\n",
       "3730421    1\n",
       "2534410    1\n",
       "264193     1\n",
       "Name: SKU_number, Length: 133360, dtype: int64"
      ]
     },
     "execution_count": 14,
     "metadata": {},
     "output_type": "execute_result"
    }
   ],
   "source": [
    "db.SKU_number.value_counts()"
   ]
  },
  {
   "cell_type": "code",
   "execution_count": 21,
   "metadata": {},
   "outputs": [
    {
     "data": {
      "text/html": [
       "<div>\n",
       "<style scoped>\n",
       "    .dataframe tbody tr th:only-of-type {\n",
       "        vertical-align: middle;\n",
       "    }\n",
       "\n",
       "    .dataframe tbody tr th {\n",
       "        vertical-align: top;\n",
       "    }\n",
       "\n",
       "    .dataframe thead th {\n",
       "        text-align: right;\n",
       "    }\n",
       "</style>\n",
       "<table border=\"1\" class=\"dataframe\">\n",
       "  <thead>\n",
       "    <tr style=\"text-align: right;\">\n",
       "      <th></th>\n",
       "      <th>Order</th>\n",
       "      <th>File_Type</th>\n",
       "      <th>SKU_number</th>\n",
       "      <th>SoldFlag</th>\n",
       "      <th>SoldCount</th>\n",
       "      <th>MarketingType</th>\n",
       "      <th>ReleaseNumber</th>\n",
       "      <th>New_Release_Flag</th>\n",
       "      <th>StrengthFactor</th>\n",
       "      <th>PriceReg</th>\n",
       "      <th>ReleaseYear</th>\n",
       "      <th>ItemCount</th>\n",
       "      <th>LowUserPrice</th>\n",
       "      <th>LowNetPrice</th>\n",
       "    </tr>\n",
       "  </thead>\n",
       "  <tbody>\n",
       "    <tr>\n",
       "      <th>22508</th>\n",
       "      <td>23017</td>\n",
       "      <td>Historical</td>\n",
       "      <td>2363390</td>\n",
       "      <td>0.0</td>\n",
       "      <td>0.0</td>\n",
       "      <td>D</td>\n",
       "      <td>2</td>\n",
       "      <td>1</td>\n",
       "      <td>633732.0000</td>\n",
       "      <td>181.72</td>\n",
       "      <td>1980</td>\n",
       "      <td>44</td>\n",
       "      <td>143.96</td>\n",
       "      <td>53.66</td>\n",
       "    </tr>\n",
       "    <tr>\n",
       "      <th>172915</th>\n",
       "      <td>182026</td>\n",
       "      <td>Active</td>\n",
       "      <td>2363390</td>\n",
       "      <td>NaN</td>\n",
       "      <td>NaN</td>\n",
       "      <td>D</td>\n",
       "      <td>2</td>\n",
       "      <td>1</td>\n",
       "      <td>948456.8338</td>\n",
       "      <td>181.72</td>\n",
       "      <td>1980</td>\n",
       "      <td>44</td>\n",
       "      <td>4.00</td>\n",
       "      <td>53.66</td>\n",
       "    </tr>\n",
       "  </tbody>\n",
       "</table>\n",
       "</div>"
      ],
      "text/plain": [
       "         Order   File_Type  SKU_number  SoldFlag  SoldCount MarketingType  \\\n",
       "22508    23017  Historical     2363390       0.0        0.0             D   \n",
       "172915  182026      Active     2363390       NaN        NaN             D   \n",
       "\n",
       "        ReleaseNumber  New_Release_Flag  StrengthFactor  PriceReg  \\\n",
       "22508               2                 1     633732.0000    181.72   \n",
       "172915              2                 1     948456.8338    181.72   \n",
       "\n",
       "        ReleaseYear  ItemCount  LowUserPrice  LowNetPrice  \n",
       "22508          1980         44        143.96        53.66  \n",
       "172915         1980         44          4.00        53.66  "
      ]
     },
     "execution_count": 21,
     "metadata": {},
     "output_type": "execute_result"
    }
   ],
   "source": [
    "db.loc[db.SKU_number==2363390]"
   ]
  },
  {
   "cell_type": "code",
   "execution_count": 33,
   "metadata": {},
   "outputs": [
    {
     "data": {
      "text/plain": [
       "133119    1\n",
       "148061    1\n",
       "244322    1\n",
       "625252    1\n",
       "623205    1\n",
       "         ..\n",
       "657874    1\n",
       "115271    1\n",
       "132394    1\n",
       "527659    1\n",
       "295445    1\n",
       "Name: SKU_number, Length: 75996, dtype: int64"
      ]
     },
     "execution_count": 33,
     "metadata": {},
     "output_type": "execute_result"
    }
   ],
   "source": [
    "db[db.SoldFlag.notnull()][\"SKU_number\"].value_counts()"
   ]
  },
  {
   "cell_type": "code",
   "execution_count": 34,
   "metadata": {},
   "outputs": [
    {
     "data": {
      "text/plain": [
       "110648     1\n",
       "598926     1\n",
       "608386     1\n",
       "614535     1\n",
       "843989     1\n",
       "          ..\n",
       "644591     1\n",
       "3485168    1\n",
       "867826     1\n",
       "341491     1\n",
       "526337     1\n",
       "Name: SKU_number, Length: 122921, dtype: int64"
      ]
     },
     "execution_count": 34,
     "metadata": {},
     "output_type": "execute_result"
    }
   ],
   "source": [
    "db[db.SoldFlag.isnull()][\"SKU_number\"].value_counts()"
   ]
  },
  {
   "cell_type": "code",
   "execution_count": 41,
   "metadata": {},
   "outputs": [
    {
     "data": {
      "text/plain": [
       "65557"
      ]
     },
     "execution_count": 41,
     "metadata": {},
     "output_type": "execute_result"
    }
   ],
   "source": [
    "(db.SKU_number.value_counts()==2).sum()"
   ]
  },
  {
   "cell_type": "code",
   "execution_count": 46,
   "metadata": {},
   "outputs": [
    {
     "data": {
      "text/plain": [
       "0.0     63000\n",
       "1.0      8179\n",
       "2.0      2545\n",
       "3.0      1018\n",
       "4.0       483\n",
       "5.0       253\n",
       "6.0       149\n",
       "7.0       121\n",
       "8.0        62\n",
       "9.0        32\n",
       "10.0       30\n",
       "12.0       28\n",
       "11.0       21\n",
       "14.0       11\n",
       "13.0       10\n",
       "16.0        9\n",
       "15.0        6\n",
       "18.0        5\n",
       "19.0        4\n",
       "22.0        4\n",
       "27.0        3\n",
       "17.0        3\n",
       "26.0        3\n",
       "24.0        2\n",
       "21.0        2\n",
       "36.0        2\n",
       "35.0        1\n",
       "73.0        1\n",
       "69.0        1\n",
       "34.0        1\n",
       "51.0        1\n",
       "30.0        1\n",
       "33.0        1\n",
       "28.0        1\n",
       "25.0        1\n",
       "40.0        1\n",
       "20.0        1\n",
       "Name: SoldCount, dtype: int64"
      ]
     },
     "execution_count": 46,
     "metadata": {},
     "output_type": "execute_result"
    }
   ],
   "source": [
    "db.SoldCount.value_counts()"
   ]
  },
  {
   "cell_type": "code",
   "execution_count": 49,
   "metadata": {},
   "outputs": [],
   "source": [
    "db_active=db[db.SoldFlag.isnull()].copy()\n"
   ]
  },
  {
   "cell_type": "code",
   "execution_count": 51,
   "metadata": {},
   "outputs": [],
   "source": [
    "db_history=db[db.SoldFlag.notnull()].copy()\n"
   ]
  },
  {
   "cell_type": "code",
   "execution_count": 52,
   "metadata": {},
   "outputs": [],
   "source": [
    "db_h_sold=db.loc[db.SoldFlag==1].copy()"
   ]
  },
  {
   "cell_type": "code",
   "execution_count": 54,
   "metadata": {},
   "outputs": [
    {
     "data": {
      "text/plain": [
       "1.0     8179\n",
       "2.0     2545\n",
       "3.0     1018\n",
       "4.0      483\n",
       "5.0      253\n",
       "6.0      149\n",
       "7.0      121\n",
       "8.0       62\n",
       "9.0       32\n",
       "10.0      30\n",
       "12.0      28\n",
       "11.0      21\n",
       "14.0      11\n",
       "13.0      10\n",
       "16.0       9\n",
       "15.0       6\n",
       "18.0       5\n",
       "22.0       4\n",
       "19.0       4\n",
       "27.0       3\n",
       "17.0       3\n",
       "26.0       3\n",
       "36.0       2\n",
       "21.0       2\n",
       "24.0       2\n",
       "69.0       1\n",
       "20.0       1\n",
       "28.0       1\n",
       "40.0       1\n",
       "25.0       1\n",
       "35.0       1\n",
       "73.0       1\n",
       "34.0       1\n",
       "30.0       1\n",
       "51.0       1\n",
       "33.0       1\n",
       "Name: SoldCount, dtype: int64"
      ]
     },
     "execution_count": 54,
     "metadata": {},
     "output_type": "execute_result"
    }
   ],
   "source": [
    "db_h_sold.SoldCount.value_counts()"
   ]
  },
  {
   "cell_type": "code",
   "execution_count": 59,
   "metadata": {},
   "outputs": [
    {
     "data": {
      "text/html": [
       "<div>\n",
       "<style scoped>\n",
       "    .dataframe tbody tr th:only-of-type {\n",
       "        vertical-align: middle;\n",
       "    }\n",
       "\n",
       "    .dataframe tbody tr th {\n",
       "        vertical-align: top;\n",
       "    }\n",
       "\n",
       "    .dataframe thead th {\n",
       "        text-align: right;\n",
       "    }\n",
       "</style>\n",
       "<table border=\"1\" class=\"dataframe\">\n",
       "  <thead>\n",
       "    <tr style=\"text-align: right;\">\n",
       "      <th></th>\n",
       "      <th>Order</th>\n",
       "      <th>File_Type</th>\n",
       "      <th>SKU_number</th>\n",
       "      <th>SoldFlag</th>\n",
       "      <th>SoldCount</th>\n",
       "      <th>MarketingType</th>\n",
       "      <th>ReleaseNumber</th>\n",
       "      <th>New_Release_Flag</th>\n",
       "      <th>StrengthFactor</th>\n",
       "      <th>PriceReg</th>\n",
       "      <th>ReleaseYear</th>\n",
       "      <th>ItemCount</th>\n",
       "      <th>LowUserPrice</th>\n",
       "      <th>LowNetPrice</th>\n",
       "    </tr>\n",
       "  </thead>\n",
       "  <tbody>\n",
       "    <tr>\n",
       "      <th>7456</th>\n",
       "      <td>7698</td>\n",
       "      <td>Historical</td>\n",
       "      <td>665269</td>\n",
       "      <td>1.0</td>\n",
       "      <td>73.0</td>\n",
       "      <td>D</td>\n",
       "      <td>2</td>\n",
       "      <td>1</td>\n",
       "      <td>77114.0</td>\n",
       "      <td>35.50</td>\n",
       "      <td>2010</td>\n",
       "      <td>290</td>\n",
       "      <td>25.99</td>\n",
       "      <td>22.17</td>\n",
       "    </tr>\n",
       "    <tr>\n",
       "      <th>16465</th>\n",
       "      <td>16865</td>\n",
       "      <td>Historical</td>\n",
       "      <td>613864</td>\n",
       "      <td>1.0</td>\n",
       "      <td>69.0</td>\n",
       "      <td>D</td>\n",
       "      <td>0</td>\n",
       "      <td>0</td>\n",
       "      <td>7237.0</td>\n",
       "      <td>80.75</td>\n",
       "      <td>2012</td>\n",
       "      <td>44</td>\n",
       "      <td>0.00</td>\n",
       "      <td>0.00</td>\n",
       "    </tr>\n",
       "    <tr>\n",
       "      <th>7882</th>\n",
       "      <td>8135</td>\n",
       "      <td>Historical</td>\n",
       "      <td>141848</td>\n",
       "      <td>1.0</td>\n",
       "      <td>51.0</td>\n",
       "      <td>D</td>\n",
       "      <td>2</td>\n",
       "      <td>1</td>\n",
       "      <td>126988.0</td>\n",
       "      <td>13.89</td>\n",
       "      <td>2006</td>\n",
       "      <td>86</td>\n",
       "      <td>25.98</td>\n",
       "      <td>11.95</td>\n",
       "    </tr>\n",
       "    <tr>\n",
       "      <th>42090</th>\n",
       "      <td>47860</td>\n",
       "      <td>Historical</td>\n",
       "      <td>254518</td>\n",
       "      <td>1.0</td>\n",
       "      <td>40.0</td>\n",
       "      <td>S</td>\n",
       "      <td>10</td>\n",
       "      <td>1</td>\n",
       "      <td>472673.0</td>\n",
       "      <td>104.95</td>\n",
       "      <td>2011</td>\n",
       "      <td>92</td>\n",
       "      <td>274.51</td>\n",
       "      <td>66.54</td>\n",
       "    </tr>\n",
       "    <tr>\n",
       "      <th>28558</th>\n",
       "      <td>29180</td>\n",
       "      <td>Historical</td>\n",
       "      <td>55769</td>\n",
       "      <td>1.0</td>\n",
       "      <td>36.0</td>\n",
       "      <td>D</td>\n",
       "      <td>1</td>\n",
       "      <td>0</td>\n",
       "      <td>157486.0</td>\n",
       "      <td>45.95</td>\n",
       "      <td>2000</td>\n",
       "      <td>178</td>\n",
       "      <td>48.98</td>\n",
       "      <td>44.99</td>\n",
       "    </tr>\n",
       "    <tr>\n",
       "      <th>...</th>\n",
       "      <td>...</td>\n",
       "      <td>...</td>\n",
       "      <td>...</td>\n",
       "      <td>...</td>\n",
       "      <td>...</td>\n",
       "      <td>...</td>\n",
       "      <td>...</td>\n",
       "      <td>...</td>\n",
       "      <td>...</td>\n",
       "      <td>...</td>\n",
       "      <td>...</td>\n",
       "      <td>...</td>\n",
       "      <td>...</td>\n",
       "      <td>...</td>\n",
       "    </tr>\n",
       "    <tr>\n",
       "      <th>21288</th>\n",
       "      <td>21777</td>\n",
       "      <td>Historical</td>\n",
       "      <td>876761</td>\n",
       "      <td>1.0</td>\n",
       "      <td>1.0</td>\n",
       "      <td>D</td>\n",
       "      <td>4</td>\n",
       "      <td>1</td>\n",
       "      <td>713978.0</td>\n",
       "      <td>142.31</td>\n",
       "      <td>2011</td>\n",
       "      <td>27</td>\n",
       "      <td>177.54</td>\n",
       "      <td>57.89</td>\n",
       "    </tr>\n",
       "    <tr>\n",
       "      <th>21291</th>\n",
       "      <td>21780</td>\n",
       "      <td>Historical</td>\n",
       "      <td>349597</td>\n",
       "      <td>1.0</td>\n",
       "      <td>1.0</td>\n",
       "      <td>D</td>\n",
       "      <td>7</td>\n",
       "      <td>1</td>\n",
       "      <td>4206095.0</td>\n",
       "      <td>0.00</td>\n",
       "      <td>2004</td>\n",
       "      <td>11</td>\n",
       "      <td>88.98</td>\n",
       "      <td>28.99</td>\n",
       "    </tr>\n",
       "    <tr>\n",
       "      <th>21294</th>\n",
       "      <td>21783</td>\n",
       "      <td>Historical</td>\n",
       "      <td>335916</td>\n",
       "      <td>1.0</td>\n",
       "      <td>1.0</td>\n",
       "      <td>D</td>\n",
       "      <td>1</td>\n",
       "      <td>0</td>\n",
       "      <td>1534619.0</td>\n",
       "      <td>84.95</td>\n",
       "      <td>1995</td>\n",
       "      <td>18</td>\n",
       "      <td>80.37</td>\n",
       "      <td>62.16</td>\n",
       "    </tr>\n",
       "    <tr>\n",
       "      <th>21297</th>\n",
       "      <td>21786</td>\n",
       "      <td>Historical</td>\n",
       "      <td>2559740</td>\n",
       "      <td>1.0</td>\n",
       "      <td>1.0</td>\n",
       "      <td>D</td>\n",
       "      <td>1</td>\n",
       "      <td>0</td>\n",
       "      <td>1668703.0</td>\n",
       "      <td>165.00</td>\n",
       "      <td>1994</td>\n",
       "      <td>23</td>\n",
       "      <td>114.73</td>\n",
       "      <td>43.98</td>\n",
       "    </tr>\n",
       "    <tr>\n",
       "      <th>75973</th>\n",
       "      <td>85079</td>\n",
       "      <td>Historical</td>\n",
       "      <td>802560</td>\n",
       "      <td>1.0</td>\n",
       "      <td>1.0</td>\n",
       "      <td>S</td>\n",
       "      <td>4</td>\n",
       "      <td>1</td>\n",
       "      <td>2804553.0</td>\n",
       "      <td>49.99</td>\n",
       "      <td>2005</td>\n",
       "      <td>29</td>\n",
       "      <td>30.50</td>\n",
       "      <td>13.68</td>\n",
       "    </tr>\n",
       "  </tbody>\n",
       "</table>\n",
       "<p>12996 rows × 14 columns</p>\n",
       "</div>"
      ],
      "text/plain": [
       "       Order   File_Type  SKU_number  SoldFlag  SoldCount MarketingType  \\\n",
       "7456    7698  Historical      665269       1.0       73.0             D   \n",
       "16465  16865  Historical      613864       1.0       69.0             D   \n",
       "7882    8135  Historical      141848       1.0       51.0             D   \n",
       "42090  47860  Historical      254518       1.0       40.0             S   \n",
       "28558  29180  Historical       55769       1.0       36.0             D   \n",
       "...      ...         ...         ...       ...        ...           ...   \n",
       "21288  21777  Historical      876761       1.0        1.0             D   \n",
       "21291  21780  Historical      349597       1.0        1.0             D   \n",
       "21294  21783  Historical      335916       1.0        1.0             D   \n",
       "21297  21786  Historical     2559740       1.0        1.0             D   \n",
       "75973  85079  Historical      802560       1.0        1.0             S   \n",
       "\n",
       "       ReleaseNumber  New_Release_Flag  StrengthFactor  PriceReg  ReleaseYear  \\\n",
       "7456               2                 1         77114.0     35.50         2010   \n",
       "16465              0                 0          7237.0     80.75         2012   \n",
       "7882               2                 1        126988.0     13.89         2006   \n",
       "42090             10                 1        472673.0    104.95         2011   \n",
       "28558              1                 0        157486.0     45.95         2000   \n",
       "...              ...               ...             ...       ...          ...   \n",
       "21288              4                 1        713978.0    142.31         2011   \n",
       "21291              7                 1       4206095.0      0.00         2004   \n",
       "21294              1                 0       1534619.0     84.95         1995   \n",
       "21297              1                 0       1668703.0    165.00         1994   \n",
       "75973              4                 1       2804553.0     49.99         2005   \n",
       "\n",
       "       ItemCount  LowUserPrice  LowNetPrice  \n",
       "7456         290         25.99        22.17  \n",
       "16465         44          0.00         0.00  \n",
       "7882          86         25.98        11.95  \n",
       "42090         92        274.51        66.54  \n",
       "28558        178         48.98        44.99  \n",
       "...          ...           ...          ...  \n",
       "21288         27        177.54        57.89  \n",
       "21291         11         88.98        28.99  \n",
       "21294         18         80.37        62.16  \n",
       "21297         23        114.73        43.98  \n",
       "75973         29         30.50        13.68  \n",
       "\n",
       "[12996 rows x 14 columns]"
      ]
     },
     "execution_count": 59,
     "metadata": {},
     "output_type": "execute_result"
    }
   ],
   "source": [
    "db_h_sold.sort_values(by=[\"SoldCount\"],ascending=False)"
   ]
  },
  {
   "cell_type": "code",
   "execution_count": 63,
   "metadata": {},
   "outputs": [
    {
     "data": {
      "text/plain": [
       "<matplotlib.axes._subplots.AxesSubplot at 0x2aa37dfebe0>"
      ]
     },
     "execution_count": 63,
     "metadata": {},
     "output_type": "execute_result"
    },
    {
     "data": {
      "image/png": "[encoded data removed]",
      "text/plain": [
       "<Figure size 432x288 with 1 Axes>"
      ]
     },
     "metadata": {
      "needs_background": "light"
     },
     "output_type": "display_data"
    }
   ],
   "source": []
  },
  {
   "cell_type": "code",
   "execution_count": null,
   "metadata": {},
   "outputs": [],
   "source": []
  }
 ],
 "metadata": {
  "kernelspec": {
   "display_name": "Python 3",
   "language": "python",
   "name": "python3"
  },
  "language_info": {
   "codemirror_mode": {
    "name": "ipython",
    "version": 3
   },
   "file_extension": ".py",
   "mimetype": "text/x-python",
   "name": "python",
   "nbconvert_exporter": "python",
   "pygments_lexer": "ipython3",
   "version": "3.7.3"
  }
 },
 "nbformat": 4,
 "nbformat_minor": 2
}
